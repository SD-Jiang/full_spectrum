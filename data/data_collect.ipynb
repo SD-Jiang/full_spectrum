{
 "cells": [
  {
   "cell_type": "code",
   "execution_count": 1,
   "id": "96481c4c",
   "metadata": {},
   "outputs": [],
   "source": [
    "import pandas as pd\n",
    "import numpy as np\n",
    "import shutil\n",
    "import os\n",
    "import imageio\n",
    "from PIL import Image,ImageDraw,ImageFont"
   ]
  },
  {
   "cell_type": "code",
   "execution_count": 4,
   "id": "bd195f51",
   "metadata": {},
   "outputs": [
    {
     "data": {
      "text/plain": [
       "Index(['Soma ID', 'fMOST BrainID', 'Soma_X(Raw brain)', 'Soma_Y(Raw brain)',\n",
       "       'Soma_Z(Raw brain)', 'Soma_X(CCFv3)', 'Soma_Y(CCFv3)', 'Soma_Z(CCFv3)',\n",
       "       'CCF Region Registered', 'Local Traced', 'Full Traced',\n",
       "       'Production Type (TeraVR or Hi5)'],\n",
       "      dtype='object')"
      ]
     },
     "execution_count": 4,
     "metadata": {},
     "output_type": "execute_result"
    }
   ],
   "source": [
    "dataf='./SEU-ALLEN_Soma_Morphometry.csv'\n",
    "df=pd.read_csv(dataf)\n",
    "df.keys()"
   ]
  },
  {
   "cell_type": "code",
   "execution_count": 6,
   "id": "b4841eb3",
   "metadata": {},
   "outputs": [],
   "source": [
    "df['Full Traced']=0\n",
    "df['Production Type (TeraVR or Hi5)']='Hi5'\n",
    "tera_soma_df=pd.read_csv('./50k_soma.csv',index_col=['Brain'])\n",
    "tera_labeled_brains=tera_soma_df.index.to_list()\n",
    "df.loc[df['fMOST BrainID'].isin(tera_labeled_brains),'Production Type (TeraVR or Hi5)']='TeraVR'\n",
    "df['Soma_X(CCFv3)']/=25\n",
    "df['Soma_Y(CCFv3)']/=25\n",
    "df['Soma_Z(CCFv3)']/=25"
   ]
  },
  {
   "cell_type": "code",
   "execution_count": 56,
   "id": "6c24babf",
   "metadata": {},
   "outputs": [
    {
     "data": {
      "text/html": [
       "<div>\n",
       "<style scoped>\n",
       "    .dataframe tbody tr th:only-of-type {\n",
       "        vertical-align: middle;\n",
       "    }\n",
       "\n",
       "    .dataframe tbody tr th {\n",
       "        vertical-align: top;\n",
       "    }\n",
       "\n",
       "    .dataframe thead th {\n",
       "        text-align: right;\n",
       "    }\n",
       "</style>\n",
       "<table border=\"1\" class=\"dataframe\">\n",
       "  <thead>\n",
       "    <tr style=\"text-align: right;\">\n",
       "      <th></th>\n",
       "      <th>Soma ID</th>\n",
       "      <th>fMOST BrainID</th>\n",
       "      <th>Soma_X(Raw brain)</th>\n",
       "      <th>Soma_Y(Raw brain)</th>\n",
       "      <th>Soma_Z(Raw brain)</th>\n",
       "      <th>Soma_X(CCFv3)</th>\n",
       "      <th>Soma_Y(CCFv3)</th>\n",
       "      <th>Soma_Z(CCFv3)</th>\n",
       "      <th>CCF Region Registered</th>\n",
       "      <th>Local Traced</th>\n",
       "      <th>Full Traced</th>\n",
       "      <th>Production Type (TeraVR or Hi5)</th>\n",
       "    </tr>\n",
       "  </thead>\n",
       "  <tbody>\n",
       "    <tr>\n",
       "      <th>0</th>\n",
       "      <td>1</td>\n",
       "      <td>191797</td>\n",
       "      <td>9488.258</td>\n",
       "      <td>12907.284</td>\n",
       "      <td>1325.821</td>\n",
       "      <td>41.879</td>\n",
       "      <td>152.250</td>\n",
       "      <td>177.934</td>\n",
       "      <td>MOB</td>\n",
       "      <td>0</td>\n",
       "      <td>0</td>\n",
       "      <td>Hi5</td>\n",
       "    </tr>\n",
       "    <tr>\n",
       "      <th>1</th>\n",
       "      <td>2</td>\n",
       "      <td>191797</td>\n",
       "      <td>9520.883</td>\n",
       "      <td>12816.454</td>\n",
       "      <td>1345.435</td>\n",
       "      <td>42.905</td>\n",
       "      <td>152.916</td>\n",
       "      <td>176.329</td>\n",
       "      <td>MOB</td>\n",
       "      <td>0</td>\n",
       "      <td>0</td>\n",
       "      <td>Hi5</td>\n",
       "    </tr>\n",
       "    <tr>\n",
       "      <th>2</th>\n",
       "      <td>3</td>\n",
       "      <td>191797</td>\n",
       "      <td>9465.358</td>\n",
       "      <td>12822.361</td>\n",
       "      <td>1350.614</td>\n",
       "      <td>43.209</td>\n",
       "      <td>151.684</td>\n",
       "      <td>176.515</td>\n",
       "      <td>MOB</td>\n",
       "      <td>0</td>\n",
       "      <td>0</td>\n",
       "      <td>Hi5</td>\n",
       "    </tr>\n",
       "    <tr>\n",
       "      <th>3</th>\n",
       "      <td>4</td>\n",
       "      <td>191797</td>\n",
       "      <td>9446.882</td>\n",
       "      <td>12839.179</td>\n",
       "      <td>1498.692</td>\n",
       "      <td>50.940</td>\n",
       "      <td>151.525</td>\n",
       "      <td>177.062</td>\n",
       "      <td>MOB</td>\n",
       "      <td>0</td>\n",
       "      <td>0</td>\n",
       "      <td>Hi5</td>\n",
       "    </tr>\n",
       "    <tr>\n",
       "      <th>4</th>\n",
       "      <td>5</td>\n",
       "      <td>191797</td>\n",
       "      <td>9590.042</td>\n",
       "      <td>12979.944</td>\n",
       "      <td>1412.951</td>\n",
       "      <td>46.323</td>\n",
       "      <td>154.759</td>\n",
       "      <td>179.191</td>\n",
       "      <td>MOB</td>\n",
       "      <td>0</td>\n",
       "      <td>0</td>\n",
       "      <td>Hi5</td>\n",
       "    </tr>\n",
       "    <tr>\n",
       "      <th>...</th>\n",
       "      <td>...</td>\n",
       "      <td>...</td>\n",
       "      <td>...</td>\n",
       "      <td>...</td>\n",
       "      <td>...</td>\n",
       "      <td>...</td>\n",
       "      <td>...</td>\n",
       "      <td>...</td>\n",
       "      <td>...</td>\n",
       "      <td>...</td>\n",
       "      <td>...</td>\n",
       "      <td>...</td>\n",
       "    </tr>\n",
       "    <tr>\n",
       "      <th>227576</th>\n",
       "      <td>227577</td>\n",
       "      <td>196474</td>\n",
       "      <td>11048.715</td>\n",
       "      <td>12873.795</td>\n",
       "      <td>3538.461</td>\n",
       "      <td>176.984</td>\n",
       "      <td>215.920</td>\n",
       "      <td>201.528</td>\n",
       "      <td>ACB</td>\n",
       "      <td>0</td>\n",
       "      <td>0</td>\n",
       "      <td>Hi5</td>\n",
       "    </tr>\n",
       "    <tr>\n",
       "      <th>227577</th>\n",
       "      <td>227578</td>\n",
       "      <td>196474</td>\n",
       "      <td>9064.636</td>\n",
       "      <td>8877.950</td>\n",
       "      <td>3548.290</td>\n",
       "      <td>166.485</td>\n",
       "      <td>178.486</td>\n",
       "      <td>131.563</td>\n",
       "      <td>CP</td>\n",
       "      <td>1</td>\n",
       "      <td>0</td>\n",
       "      <td>Hi5</td>\n",
       "    </tr>\n",
       "    <tr>\n",
       "      <th>227578</th>\n",
       "      <td>227579</td>\n",
       "      <td>201604</td>\n",
       "      <td>16143.194</td>\n",
       "      <td>11152.736</td>\n",
       "      <td>2652.620</td>\n",
       "      <td>142.659</td>\n",
       "      <td>225.321</td>\n",
       "      <td>188.396</td>\n",
       "      <td>ACB</td>\n",
       "      <td>1</td>\n",
       "      <td>0</td>\n",
       "      <td>Hi5</td>\n",
       "    </tr>\n",
       "    <tr>\n",
       "      <th>227579</th>\n",
       "      <td>227580</td>\n",
       "      <td>201604</td>\n",
       "      <td>11178.039</td>\n",
       "      <td>10490.175</td>\n",
       "      <td>2600.956</td>\n",
       "      <td>146.551</td>\n",
       "      <td>224.365</td>\n",
       "      <td>263.771</td>\n",
       "      <td>ACB</td>\n",
       "      <td>1</td>\n",
       "      <td>0</td>\n",
       "      <td>Hi5</td>\n",
       "    </tr>\n",
       "    <tr>\n",
       "      <th>227580</th>\n",
       "      <td>227581</td>\n",
       "      <td>201604</td>\n",
       "      <td>20205.736</td>\n",
       "      <td>12435.686</td>\n",
       "      <td>4354.809</td>\n",
       "      <td>231.849</td>\n",
       "      <td>239.194</td>\n",
       "      <td>118.873</td>\n",
       "      <td>act</td>\n",
       "      <td>1</td>\n",
       "      <td>0</td>\n",
       "      <td>Hi5</td>\n",
       "    </tr>\n",
       "  </tbody>\n",
       "</table>\n",
       "<p>227581 rows × 12 columns</p>\n",
       "</div>"
      ],
      "text/plain": [
       "        Soma ID  fMOST BrainID  Soma_X(Raw brain)  Soma_Y(Raw brain)  \\\n",
       "0             1         191797           9488.258          12907.284   \n",
       "1             2         191797           9520.883          12816.454   \n",
       "2             3         191797           9465.358          12822.361   \n",
       "3             4         191797           9446.882          12839.179   \n",
       "4             5         191797           9590.042          12979.944   \n",
       "...         ...            ...                ...                ...   \n",
       "227576   227577         196474          11048.715          12873.795   \n",
       "227577   227578         196474           9064.636           8877.950   \n",
       "227578   227579         201604          16143.194          11152.736   \n",
       "227579   227580         201604          11178.039          10490.175   \n",
       "227580   227581         201604          20205.736          12435.686   \n",
       "\n",
       "        Soma_Z(Raw brain)  Soma_X(CCFv3)  Soma_Y(CCFv3)  Soma_Z(CCFv3)  \\\n",
       "0                1325.821         41.879        152.250        177.934   \n",
       "1                1345.435         42.905        152.916        176.329   \n",
       "2                1350.614         43.209        151.684        176.515   \n",
       "3                1498.692         50.940        151.525        177.062   \n",
       "4                1412.951         46.323        154.759        179.191   \n",
       "...                   ...            ...            ...            ...   \n",
       "227576           3538.461        176.984        215.920        201.528   \n",
       "227577           3548.290        166.485        178.486        131.563   \n",
       "227578           2652.620        142.659        225.321        188.396   \n",
       "227579           2600.956        146.551        224.365        263.771   \n",
       "227580           4354.809        231.849        239.194        118.873   \n",
       "\n",
       "       CCF Region Registered  Local Traced  Full Traced  \\\n",
       "0                        MOB             0            0   \n",
       "1                        MOB             0            0   \n",
       "2                        MOB             0            0   \n",
       "3                        MOB             0            0   \n",
       "4                        MOB             0            0   \n",
       "...                      ...           ...          ...   \n",
       "227576                   ACB             0            0   \n",
       "227577                    CP             1            0   \n",
       "227578                   ACB             1            0   \n",
       "227579                   ACB             1            0   \n",
       "227580                   act             1            0   \n",
       "\n",
       "       Production Type (TeraVR or Hi5)  \n",
       "0                                  Hi5  \n",
       "1                                  Hi5  \n",
       "2                                  Hi5  \n",
       "3                                  Hi5  \n",
       "4                                  Hi5  \n",
       "...                                ...  \n",
       "227576                             Hi5  \n",
       "227577                             Hi5  \n",
       "227578                             Hi5  \n",
       "227579                             Hi5  \n",
       "227580                             Hi5  \n",
       "\n",
       "[227581 rows x 12 columns]"
      ]
     },
     "execution_count": 56,
     "metadata": {},
     "output_type": "execute_result"
    }
   ],
   "source": [
    "df"
   ]
  },
  {
   "cell_type": "code",
   "execution_count": 85,
   "id": "083826df",
   "metadata": {},
   "outputs": [],
   "source": [
    "df.to_csv('./SEU-ALLEN_Morphometry.csv')"
   ]
  },
  {
   "attachments": {},
   "cell_type": "markdown",
   "id": "30e31405",
   "metadata": {},
   "source": [
    "## full morphology"
   ]
  },
  {
   "cell_type": "code",
   "execution_count": 3,
   "id": "f6b3f932",
   "metadata": {},
   "outputs": [],
   "source": [
    "# get cell type\n",
    "r1741_type='/Users/jiangshengdian/Desktop/Daily/Reconstructions/seu_allen_data/1741_Celltype.csv'\n",
    "r1741df=pd.read_csv(r1741_type,index_col=['name'])\n",
    "raw_feas_file='../../fullmorpho/py/ana_lm_statistics_full.csv'\n",
    "# swcdir='../data/reg_ccf'\n",
    "swcdir='../data/reg_ccf_s20'\n",
    "fromFile=True\n",
    "recompute_size=0\n",
    "if fromFile and os.path.exists(raw_feas_file):\n",
    "    all_features_raw=pd.read_csv(raw_feas_file,index_col=['name'])\n",
    "else:\n",
    "    for swc in allfeas.index:\n",
    "        fbname=swc\n",
    "        bid=fbname.split('_')[0]\n",
    "        if bid == 'pre':\n",
    "            bid=fbname.split('_')[1]\n",
    "        if bid == '15257':\n",
    "            fbname='210254_'+fbname.split('5257_')[1]\n",
    "        if fbname in r1741df.index:\n",
    "            soma_region=r1741df.loc[fbname,'Soma_region']\n",
    "        else:\n",
    "            swcf=os.path.join(swcdir,swc+'.swc')\n",
    "            soma_region=get_soma_region(swcf)\n",
    "            \n",
    "        allfeas.loc[swc,'soma_region']=soma_region"
   ]
  },
  {
   "cell_type": "code",
   "execution_count": 5,
   "id": "9d81af59",
   "metadata": {},
   "outputs": [],
   "source": [
    "allsomadf=all_features_raw['soma_region'].copy()\n",
    "allsoma='/Users/jiangshengdian/Desktop/Daily/PhD_project/Platform/SD/data/1886_Soma_region.csv'\n",
    "allsomadf.to_csv(allsoma)"
   ]
  },
  {
   "cell_type": "code",
   "execution_count": 6,
   "id": "ef99ecae",
   "metadata": {},
   "outputs": [],
   "source": [
    "def readswc(file,out_fea=None,fea_val_names=None,header=None,skiprows=3):\n",
    "    swc=pd.read_csv(file,sep=' ',header=None,skiprows=skiprows)\n",
    "    if header is None:\n",
    "        header=['n','type','x','y','z','radius','parent']\n",
    "        if swc.shape[1] >= 12:\n",
    "            header+=['seg_id','level','mode','timestamp','teraflyindex']\n",
    "            for i in np.arange(12,swc.shape[1]):\n",
    "                if fea_val_names is not None:\n",
    "                    header.append(fea_val_names[i-12])\n",
    "                else:\n",
    "                    header.append('fea_'+str(i-12))\n",
    "    if len(header) == swc.shape[1]:\n",
    "        swc.columns=header\n",
    "    swc.set_index(['n'],drop=True,inplace=True)\n",
    "    if out_fea is None:\n",
    "        return swc\n",
    "    else:\n",
    "        return swc[out_fea]\n",
    "def get_rid(swc):\n",
    "    '''\n",
    "    Find root node.\n",
    "    '''\n",
    "    rnode=swc[((swc['parent']<0) & (swc['type']<=1))]\n",
    "    if rnode.shape[0]<1:\n",
    "        return -1\n",
    "    return rnode.index[0]\n",
    "# get cell type\n",
    "r1741_type='/Users/jiangshengdian/Desktop/Daily/Reconstructions/seu_allen_data/1741_Celltype.csv'\n",
    "r1741df=pd.read_csv(r1741_type,index_col=['name'])\n",
    "allsoma='/Users/jiangshengdian/Desktop/Daily/PhD_project/Platform/SD/data/1886_Soma_region.csv'\n",
    "allsomadf=pd.read_csv(allsoma,index_col=['name'])\n",
    "fdir='/Users/jiangshengdian/Desktop/Daily/PhD_project/Platform/SD/release/full_morpho/RAW'\n",
    "fsomadf=pd.DataFrame()\n",
    "for root,dirs,files in os.walk(fdir):\n",
    "    for mfile in files:\n",
    "        if mfile == '.DS_Store' or mfile[0] == '.':\n",
    "            continue\n",
    "        file_in=os.path.join(root,mfile)\n",
    "        fname=mfile.split('.swc')[0]\n",
    "        bid=fname.split('_')[0]\n",
    "        if bid == 'pre':\n",
    "            bid=fname.split('_')[1]\n",
    "        swc=readswc(file=file_in)\n",
    "        rid=get_rid(swc=swc)\n",
    "        if rid < 0:\n",
    "            print('wrong file: ',mfile)\n",
    "            continue\n",
    "        fsomadf.loc[fname,'fMOST Brain ID']=bid\n",
    "        fsomadf.loc[fname,'Soma_X(Raw brain, in voxel)']=swc.loc[rid,'x']\n",
    "        fsomadf.loc[fname,'Soma_Y(Raw brain, in voxel)']=swc.loc[rid,'y']\n",
    "        fsomadf.loc[fname,'Soma_Z(Raw brain, in voxel)']=swc.loc[rid,'z']\n",
    "rfdir='/Users/jiangshengdian/Desktop/Daily/PhD_project/Platform/SD/release/full_morpho/CCFv3'\n",
    "for root,dirs,files in os.walk(rfdir):\n",
    "    for mfile in files:\n",
    "        if mfile == '.DS_Store' or mfile[0] == '.':\n",
    "            continue\n",
    "        file_in=os.path.join(root,mfile)\n",
    "        fname=mfile.split('.swc')[0]\n",
    "        swc=readswc(file=file_in)\n",
    "        rid=get_rid(swc=swc)\n",
    "        if rid < 0:\n",
    "            print('wrong file: ',mfile)\n",
    "            continue\n",
    "        fsomadf.loc[fname,'Soma_X(CCFv3)']=swc.loc[rid,'x']\n",
    "        fsomadf.loc[fname,'Soma_Y(CCFv3)']=swc.loc[rid,'y']\n",
    "        fsomadf.loc[fname,'Soma_Z(CCFv3)']=swc.loc[rid,'z']\n",
    "fsomadf.index.name='Name'"
   ]
  },
  {
   "cell_type": "code",
   "execution_count": 12,
   "id": "bc47d80e",
   "metadata": {},
   "outputs": [],
   "source": [
    "fsomadf['Manually annotated CCF region of soma']=0\n",
    "fsomadf['Projection class']='NA'\n",
    "fsomadf['Cortical Lamination of soma']='n/a'\n",
    "for cell in fsomadf.index:\n",
    "    fsomadf.loc[cell,'Registered CCF Region of soma']=allsomadf.loc[cell,'soma_region']\n",
    "    \n",
    "    if cell in r1741df.index:\n",
    "        fsomadf.loc[cell,'Manually annotated CCF region of soma']=1\n",
    "        if r1741df.loc[cell,'Subclass_or_type'] is not None:\n",
    "            fsomadf.loc[cell,'Projection class']=r1741df.loc[cell,'Subclass_or_type']\n",
    "    # if cell in r1741df.index:\n",
    "        cortical_layer=r1741df.loc[cell,'Cortical_layer']\n",
    "    fsomadf.loc[cell,'Cortical Lamination of soma']=str(cortical_layer)\n",
    "fsomadf.to_csv('../release/Full_morphometry.csv')"
   ]
  },
  {
   "cell_type": "code",
   "execution_count": 13,
   "id": "45aed866",
   "metadata": {},
   "outputs": [],
   "source": [
    "fsomadf.to_csv('../release/Full_morphometry.csv')"
   ]
  },
  {
   "cell_type": "code",
   "execution_count": 14,
   "id": "52c55220",
   "metadata": {},
   "outputs": [],
   "source": [
    "fsomadf.to_excel('../release/Full_morphometry.xlsx')"
   ]
  },
  {
   "cell_type": "code",
   "execution_count": 82,
   "id": "1c29642d",
   "metadata": {},
   "outputs": [],
   "source": [
    "df['Full Traced']=0\n",
    "fsomadf['in_227k']=0\n",
    "for soma in fsomadf.index:\n",
    "    bname=soma.split('.swc')[0]\n",
    "    bid=bname.split('_')[0]\n",
    "    if bid == 'pre':\n",
    "        bid=bname.split('_')[1]\n",
    "    rx=fsomadf.loc[soma,'x']\n",
    "    ry=fsomadf.loc[soma,'y']\n",
    "    rz=fsomadf.loc[soma,'z']\n",
    "    # matchedf=df[(df['fMOST BrainID']==np.int32(bid))&\n",
    "    #                     (abs(df['Soma_X(Raw brain)']-rx)==0)&\n",
    "    #                     (abs(df['Soma_Y(Raw brain)']-ry)==0)&\n",
    "    #                     (abs(df['Soma_Z(Raw brain)']-rz)==0)].copy()\n",
    "    inbdf=df[df['fMOST BrainID']==np.int32(bid)].copy()\n",
    "    # min_dist2_227k=\n",
    "    if matchedf.shape[0] == 1:\n",
    "        fsomadf.loc[soma,'in_227k']=matchedf.shape[0]\n",
    "        df.loc[matchedf.index[0],'Full Traced']=1\n",
    "        # pass"
   ]
  },
  {
   "cell_type": "markdown",
   "id": "f7927c91",
   "metadata": {},
   "source": [
    "Data Comparison of soma_region"
   ]
  },
  {
   "cell_type": "code",
   "execution_count": 24,
   "id": "30728fc4",
   "metadata": {},
   "outputs": [],
   "source": [
    "old_soma_region='/Users/jiangshengdian/Desktop/Daily/PhD_project/Platform/ms/get_brain_meta/1891_Soma_region.csv'\n",
    "somdf_1891=pd.read_csv(old_soma_region,index_col=['name'])\n",
    "allsoma='/Users/jiangshengdian/Desktop/Daily/PhD_project/Platform/SD/data/1886_Soma_region.csv'\n",
    "somdf_1886=pd.read_csv(allsoma,index_col=['name'])\n",
    "for cell in somdf_1886.index:\n",
    "    new_region=somdf_1886.loc[cell,'soma_region']\n",
    "    old_region=somdf_1891.loc[cell,'soma_region']\n",
    "    if new_region != old_region:\n",
    "        print(cell,old_region,new_region)"
   ]
  },
  {
   "cell_type": "code",
   "execution_count": 26,
   "id": "1be60940",
   "metadata": {},
   "outputs": [
    {
     "name": "stdout",
     "output_type": "stream",
     "text": [
      "soma_region    SSp-ul\n",
      "Name: 182724_3887_x5901_y10339, dtype: object\n",
      "soma_region    SSp-ul\n",
      "Name: 182724_3887_x5901_y10339, dtype: object\n"
     ]
    }
   ],
   "source": [
    "print(somdf_1886.loc['182724_3887_x5901_y10339'])\n",
    "print(somdf_1891.loc['182724_3887_x5901_y10339'])"
   ]
  },
  {
   "cell_type": "code",
   "execution_count": 28,
   "id": "ab3fce28",
   "metadata": {},
   "outputs": [
    {
     "data": {
      "text/plain": [
       "Soma_region                           SSp-ul\n",
       "Cortical_layer                           NaN\n",
       "Transgenic_line     Fezf2-CreER;Ai166-405426\n",
       "Brain_id                              182724\n",
       "Subclass_or_type                      CTX_ET\n",
       "Celltype                           ET_SSp-ul\n",
       "Name: 182724_3887_x5901_y10339, dtype: object"
      ]
     },
     "execution_count": 28,
     "metadata": {},
     "output_type": "execute_result"
    }
   ],
   "source": [
    "r1741df.loc['182724_3887_x5901_y10339','Soma_region']"
   ]
  },
  {
   "cell_type": "markdown",
   "id": "08ee6611",
   "metadata": {},
   "source": [
    "Data cmp of stable"
   ]
  },
  {
   "cell_type": "code",
   "execution_count": 38,
   "id": "ae67e2bc",
   "metadata": {},
   "outputs": [],
   "source": [
    "smy='/Users/jiangshengdian/Desktop/Daily/PhD_project/Platform/SD/release/Full_morphometry_bk.csv'\n",
    "syf='/Users/jiangshengdian/Desktop/Daily/PhD_project/Platform/SD/release/TableS6_Full_morphometry_1213.csv'\n",
    "sdf_my=pd.read_csv(smy,index_col=['Name'])\n",
    "sdf_yf=pd.read_csv(syf,index_col=['Name'])"
   ]
  },
  {
   "cell_type": "code",
   "execution_count": 57,
   "id": "4fc60c3f",
   "metadata": {},
   "outputs": [
    {
     "name": "stdout",
     "output_type": "stream",
     "text": [
      "pre_18464_00102 Registeredsoma CA1 DG\n",
      "18463_00014 Registeredsoma VPM nan\n",
      "18458_00492 Registeredsoma VPL VPM\n"
     ]
    }
   ],
   "source": [
    "# cmp_keys=sdf_my.keys()\n",
    "cmp_keys=['fMOSTID','Soma_X', 'Soma_Y', 'Soma_Z', 'Soma_X(CCFv3)','Soma_Y(CCFv3)', 'Soma_Z(CCFv3)', 'Manuallysoma', 'Registeredsoma']\n",
    "for cell in sdf_my.index:\n",
    "    wrong_match=False\n",
    "    for key in cmp_keys:\n",
    "        myv=sdf_my.loc[cell,key]\n",
    "        yfv=sdf_yf.loc[cell,key]\n",
    "        if myv is None and yfv is None:\n",
    "            continue\n",
    "        if myv != yfv:\n",
    "            wrong_match=True\n",
    "            break\n",
    "    if wrong_match and (myv != 'error'):\n",
    "        if key == 'Manuallysoma':\n",
    "            continue\n",
    "        if myv == 'fiber tracts':\n",
    "            continue\n",
    "        print(cell,key,myv,yfv)"
   ]
  },
  {
   "cell_type": "code",
   "execution_count": 50,
   "id": "33458004",
   "metadata": {},
   "outputs": [
    {
     "name": "stdout",
     "output_type": "stream",
     "text": [
      "soma_region    CA1\n",
      "Name: pre_18464_00102, dtype: object\n",
      "soma_region    CA1\n",
      "Name: pre_18464_00102, dtype: object\n"
     ]
    }
   ],
   "source": [
    "cell='pre_18464_00102'\n",
    "print(somdf_1886.loc[cell])\n",
    "print(somdf_1891.loc[cell])"
   ]
  },
  {
   "attachments": {},
   "cell_type": "markdown",
   "id": "e8ebbe48",
   "metadata": {},
   "source": [
    "## local morphology\n",
    "rename to somaid"
   ]
  },
  {
   "cell_type": "code",
   "execution_count": 2,
   "id": "a536f108",
   "metadata": {},
   "outputs": [],
   "source": [
    "somaf='/Users/jiangshengdian/Desktop/Daily/PhD_project/Platform/webpage/data/TableS3_Soma_morphometry_1222.csv'\n",
    "somadf=pd.read_csv(somaf)\n",
    "soma_d15k=somadf[somadf['SEU-D15K']==1].copy()"
   ]
  },
  {
   "cell_type": "code",
   "execution_count": 9,
   "id": "20a22b7f",
   "metadata": {},
   "outputs": [
    {
     "data": {
      "text/plain": [
       "(15441, 13)"
      ]
     },
     "execution_count": 9,
     "metadata": {},
     "output_type": "execute_result"
    }
   ],
   "source": [
    "soma_d15k.shape"
   ]
  },
  {
   "cell_type": "code",
   "execution_count": 4,
   "id": "3f2b0798",
   "metadata": {},
   "outputs": [
    {
     "data": {
      "text/plain": [
       "Index(['Soma ID', 'fMOST BrainID', 'Soma_X(Raw brain, in voxel)',\n",
       "       'Soma_Y(Raw brain, in voxel)', 'Soma_Z(Raw brain, in voxel)',\n",
       "       'Soma_X(CCFv3_1𝜇𝑚)', 'Soma_Y(CCFv3_1𝜇𝑚)', 'Soma_Z(CCFv3_1𝜇𝑚)',\n",
       "       'Production platform', 'Registered  CCF Region', 'Local Traced',\n",
       "       'SEU-D15K', 'isManuallyChecked'],\n",
       "      dtype='object')"
      ]
     },
     "execution_count": 4,
     "metadata": {},
     "output_type": "execute_result"
    }
   ],
   "source": [
    "somadf.keys()"
   ]
  },
  {
   "cell_type": "code",
   "execution_count": 8,
   "id": "f164a428",
   "metadata": {},
   "outputs": [
    {
     "name": "stdout",
     "output_type": "stream",
     "text": [
      "processing files: 15441\n"
     ]
    }
   ],
   "source": [
    "# match of soma: D15K raw\n",
    "swcdir='/Users/jiangshengdian/Desktop/Daily/PhD_project/Platform/SD/release/local_morphology/20230510/RAW_coord_in_brain'\n",
    "todir='/Users/jiangshengdian/Desktop/Daily/PhD_project/Platform/SD/release/local_morphology/D15K_RAW'\n",
    "if not os.path.exists(todir):\n",
    "    os.mkdir(todir)\n",
    "outf=0\n",
    "not_matched_files=0\n",
    "for root,dirs,files in os.walk(swcdir):\n",
    "    for brain in dirs:\n",
    "        bdir=os.path.join(root,brain)\n",
    "        tobdir=os.path.join(todir,brain)\n",
    "        if not os.path.exists(tobdir):\n",
    "            os.mkdir(tobdir)\n",
    "        for root1,dirs1,swcs in os.walk(bdir):\n",
    "            for mfile in swcs:\n",
    "                if mfile == '.DS_Store' or mfile[0] == '.':\n",
    "                    continue\n",
    "                \n",
    "                file_in=os.path.join(root1,mfile)\n",
    "                fname=mfile.split('.v3d')[0]\n",
    "                rx=2*np.float64(fname.split('_')[2])\n",
    "                ry=2*np.float64(fname.split('_')[4])\n",
    "                rz=2*np.float64(fname.split('_')[6])\n",
    "                matchedf=soma_d15k[(soma_d15k['fMOST BrainID']==np.int32(brain))&\n",
    "                            (abs(soma_d15k['Soma_X(Raw brain, in voxel)']-rx)<1)&\n",
    "                            (abs(soma_d15k['Soma_Y(Raw brain, in voxel)']-ry)<1)&\n",
    "                            (abs(soma_d15k['Soma_Z(Raw brain, in voxel)']-rz)<1)].copy()\n",
    "                if matchedf.shape[0] != 1:\n",
    "                    # print(brain,fname)\n",
    "                    # not_matched_files+=1\n",
    "                    continue\n",
    "                msoma_index=matchedf.index[0]\n",
    "                outname=str(soma_d15k.loc[msoma_index,'Soma ID'])+'.swc'\n",
    "                tof=os.path.join(tobdir,outname)\n",
    "                if not os.path.exists(tof):\n",
    "                    outf+=1\n",
    "                    shutil.copyfile(file_in,tof)\n",
    "                # soma_d15k.loc[msoma_index,'Soma ID']=1\n",
    "                # soma_d15k.loc[msoma_index,'swc_name']=fname\n",
    "                # outf+=1\n",
    "print('processing files: '+str(outf))\n",
    "# print('left files: '+ str(not_matched_files))"
   ]
  },
  {
   "cell_type": "code",
   "execution_count": 10,
   "id": "8496e067",
   "metadata": {},
   "outputs": [
    {
     "name": "stdout",
     "output_type": "stream",
     "text": [
      "processing files: 15441\n"
     ]
    }
   ],
   "source": [
    "# match of soma: D15K CCFv3\n",
    "# Img_X_4118.08_Y_21034_Z_1959.07.v3dpbd.swc\n",
    "# Img_X_2938.56_Y_2634.03_Z_2412.32.v3dpbd_stps.swc\n",
    "swcdir='/Users/jiangshengdian/Desktop/Daily/PhD_project/Platform/SD/release/local_morphology/20230510/RAW_coord_in_brain'\n",
    "regswcdir='/Users/jiangshengdian/Desktop/Daily/PhD_project/Platform/SD/release/local_morphology/20230510/CCFv3_25um'\n",
    "todir='/Users/jiangshengdian/Desktop/Daily/PhD_project/Platform/SD/release/local_morphology/D15K_CCFv3_25um'\n",
    "if not os.path.exists(todir):\n",
    "    os.mkdir(todir)\n",
    "outf=0\n",
    "not_matched_files=0\n",
    "for root,dirs,files in os.walk(swcdir):\n",
    "    for brain in dirs:\n",
    "        bdir=os.path.join(root,brain)\n",
    "        tobdir=os.path.join(todir,brain)\n",
    "        if not os.path.exists(tobdir):\n",
    "            os.mkdir(tobdir)\n",
    "        for root1,dirs1,swcs in os.walk(bdir):\n",
    "            for mfile in swcs:\n",
    "                if mfile == '.DS_Store' or mfile[0] == '.':\n",
    "                    continue\n",
    "                file_in=os.path.join(regswcdir,brain,mfile.replace('pbd.swc','pbd_stps.swc'))\n",
    "                fname=mfile.split('.v3d')[0]\n",
    "                rx=2*np.float64(fname.split('_')[2])\n",
    "                ry=2*np.float64(fname.split('_')[4])\n",
    "                rz=2*np.float64(fname.split('_')[6])\n",
    "                matchedf=soma_d15k[(soma_d15k['fMOST BrainID']==np.int32(brain))&\n",
    "                            (abs(soma_d15k['Soma_X(Raw brain, in voxel)']-rx)<1)&\n",
    "                            (abs(soma_d15k['Soma_Y(Raw brain, in voxel)']-ry)<1)&\n",
    "                            (abs(soma_d15k['Soma_Z(Raw brain, in voxel)']-rz)<1)].copy()\n",
    "                if matchedf.shape[0] != 1:\n",
    "                    # print(brain,fname)\n",
    "                    # not_matched_files+=1\n",
    "                    continue\n",
    "                msoma_index=matchedf.index[0]\n",
    "                outname=str(soma_d15k.loc[msoma_index,'Soma ID'])+'.swc'\n",
    "                tof=os.path.join(tobdir,outname)\n",
    "                if not os.path.exists(tof) and os.path.exists(file_in):\n",
    "                    outf+=1\n",
    "                    shutil.copyfile(file_in,tof)\n",
    "                # soma_d15k.loc[msoma_index,'Soma ID']=1\n",
    "                # soma_d15k.loc[msoma_index,'swc_name']=fname\n",
    "                # outf+=1\n",
    "print('processing files: '+str(outf))\n",
    "# print('left files: '+ str(not_matched_files))"
   ]
  },
  {
   "cell_type": "markdown",
   "id": "3cadaeb6",
   "metadata": {},
   "source": [
    "## For Web data"
   ]
  },
  {
   "cell_type": "code",
   "execution_count": 148,
   "id": "254e3a68",
   "metadata": {},
   "outputs": [],
   "source": [
    "'''For soma morphometry\n",
    "1. read soma morphometry\n",
    "2. convert to marker\n",
    "3. render in vtk and generate image\n",
    "4. image seq to video\n",
    "'''\n",
    "import random\n",
    "somaf='/Users/jiangshengdian/Desktop/Daily/PhD_project/Platform/webpage/data/TableS3_Soma_morphometry_1222.csv'\n",
    "somadf=pd.read_csv(somaf)\n",
    "soma_in_brain=somadf[['Soma ID', 'fMOST BrainID', 'Soma_X(CCFv3_1𝜇𝑚)', 'Soma_Y(CCFv3_1𝜇𝑚)', 'Soma_Z(CCFv3_1𝜇𝑚)','Registered  CCF Region']].copy()\n",
    "head='##n,orderinfo,name,comment,z,x,y,pixmax,intensity,sdev,volsize,mass,f1,f2,f3,color_r,color_g,color_b'\n",
    "#0,,18454,,3964.11,8454.241,4969.068,0,0,0,100,0,,,,125.0,250.0,196.0\n",
    "for bid in somadf['fMOST BrainID'].value_counts().index.to_list():\n",
    "    somas=soma_in_brain[soma_in_brain['fMOST BrainID']==bid].copy()\n",
    "    region_sorted=somas['Registered  CCF Region'].value_counts().index.to_list()\n",
    "    somas['r']=0\n",
    "    somas['g']=0\n",
    "    somas['b']=0\n",
    "    somas['c']=-1\n",
    "    for i,region in enumerate(region_sorted):\n",
    "       somas.loc[somas['Registered  CCF Region']==region,'c']=i\n",
    "       clist=random.choices(np.arange(255),k=3)\n",
    "       somas.loc[somas['Registered  CCF Region']==region,'r']=clist[0]\n",
    "       somas.loc[somas['Registered  CCF Region']==region,'g']=clist[1]\n",
    "       somas.loc[somas['Registered  CCF Region']==region,'b']=clist[2]\n",
    "    soma_markers=pd.DataFrame()\n",
    "    for cell in somas.index:\n",
    "       if somas.loc[cell,'c'] < 0:\n",
    "          continue\n",
    "       soma_markers.loc[cell,'##x']=int(somas.loc[cell,'Soma_X(CCFv3_1𝜇𝑚)']/25+20)\n",
    "       soma_markers.loc[cell,'y']=int(somas.loc[cell,'Soma_Y(CCFv3_1𝜇𝑚)']/25)\n",
    "       soma_markers.loc[cell,'z']=int(somas.loc[cell,'Soma_Z(CCFv3_1𝜇𝑚)']/25)\n",
    "       soma_markers.loc[cell,'radius']=0\n",
    "       soma_markers.loc[cell,'shape']=1\n",
    "       soma_markers.loc[cell,'name']=somas.loc[cell,'Registered  CCF Region']\n",
    "       soma_markers.loc[cell,'comment']=somas.loc[cell,'c']\n",
    "       soma_markers.loc[cell,'color_r']=somas.loc[cell,'r']\n",
    "       soma_markers.loc[cell,'color_g']=somas.loc[cell,'g']\n",
    "       soma_markers.loc[cell,'color_b']=somas.loc[cell,'b']\n",
    "    soma_markers.to_csv('/Users/jiangshengdian/Desktop/Daily/PhD_project/Platform/webpage/data/soma_markers/'+str(bid)+'.marker',index=False,float_format='%.0f')"
   ]
  },
  {
   "cell_type": "code",
   "execution_count": 5,
   "id": "6f644302",
   "metadata": {},
   "outputs": [
    {
     "name": "stderr",
     "output_type": "stream",
     "text": [
      "IMAGEIO FFMPEG_WRITER WARNING: input image is not divisible by macro_block_size=16, resizing from (600, 600) to (608, 608) to ensure video compatibility with most codecs and players. To prevent resizing, make your input image divisible by the macro_block_size or set the macro_block_size to 1 (risking incompatibility).\n",
      "[swscaler @ 0x7f8f3f557000] Warning: data is not aligned! This can lead to a speed loss\n"
     ]
    }
   ],
   "source": [
    "# image sequence to video\n",
    "image_src='/Users/jiangshengdian/Desktop/Daily/PhD_project/Platform/webpage/data/soma_figs'\n",
    "# 读取所有 PNG 图片\n",
    "color=(255,0,0)\n",
    "images = []\n",
    "for file_name in sorted(os.listdir(image_src)):\n",
    "    if file_name.endswith('.png'):\n",
    "        fpath=os.path.join(image_src,file_name)\n",
    "        fimage=Image.open(fpath).resize([600,600]).rotate(270)\n",
    "        drawimage=ImageDraw.Draw(fimage)\n",
    "        text=\"Brain : \"+file_name.split('.')[0]\n",
    "        font=ImageFont.truetype('Arial Unicode.ttf', size=50)\n",
    "        # text_width, text_height = drawimage.textsize(text, font)\n",
    "        x = 150\n",
    "        y = 30\n",
    "        drawimage.text((x, y), text, font=font, fill=color)\n",
    "        # break\n",
    "        images.append(fimage)\n",
    "images=np.array(images)\n",
    "# fimage\n",
    "# 将图片转换为视频\n",
    "fps = 1  # 每秒钟30帧\n",
    "filepath='/Users/jiangshengdian/Desktop/Daily/PhD_project/Platform/webpage/data/soma.mp4'\n",
    "with imageio.get_writer(filepath, fps=fps) as video:\n",
    "    for image in images:\n",
    "        frame = image\n",
    "        video.append_data(frame)"
   ]
  },
  {
   "cell_type": "code",
   "execution_count": 6,
   "id": "55d14c3b",
   "metadata": {},
   "outputs": [
    {
     "name": "stderr",
     "output_type": "stream",
     "text": [
      "IMAGEIO FFMPEG_WRITER WARNING: input image is not divisible by macro_block_size=16, resizing from (600, 600) to (608, 608) to ensure video compatibility with most codecs and players. To prevent resizing, make your input image divisible by the macro_block_size or set the macro_block_size to 1 (risking incompatibility).\n",
      "[swscaler @ 0x7fc9f5257000] Warning: data is not aligned! This can lead to a speed loss\n"
     ]
    }
   ],
   "source": [
    "'''For local morphometry:\n",
    "1. morphology by image id\n",
    "2. vtk\n",
    "3. to video\n",
    "'''\n",
    "\n",
    "image_src='/Users/jiangshengdian/Desktop/Daily/PhD_project/Platform/webpage/data/local_figs'\n",
    "# 读取所有 PNG 图片\n",
    "color=(255,0,0)\n",
    "images = []\n",
    "for file_name in sorted(os.listdir(image_src)):\n",
    "    if file_name.endswith('.png'):\n",
    "        fpath=os.path.join(image_src,file_name)\n",
    "        fimage=Image.open(fpath).resize([600,600]).rotate(270)\n",
    "        drawimage=ImageDraw.Draw(fimage)\n",
    "        text=\"Brain : \"+file_name.split('.')[0]\n",
    "        font=ImageFont.truetype('Arial Unicode.ttf', size=50)\n",
    "        # text_width, text_height = drawimage.textsize(text, font)\n",
    "        x = 150\n",
    "        y = 30\n",
    "        drawimage.text((x, y), text, font=font, fill=color)\n",
    "        # break\n",
    "        images.append(fimage)\n",
    "images=np.array(images)\n",
    "# fimage\n",
    "# 将图片转换为视频\n",
    "fps = 1  # 每秒钟30帧\n",
    "filepath='/Users/jiangshengdian/Desktop/Daily/PhD_project/Platform/webpage/data/local.mp4'\n",
    "with imageio.get_writer(filepath, fps=fps) as video:\n",
    "    for image in images:\n",
    "        frame = image\n",
    "        video.append_data(frame)"
   ]
  },
  {
   "cell_type": "code",
   "execution_count": 7,
   "id": "83207341",
   "metadata": {},
   "outputs": [
    {
     "name": "stderr",
     "output_type": "stream",
     "text": [
      "IMAGEIO FFMPEG_WRITER WARNING: input image is not divisible by macro_block_size=16, resizing from (600, 600) to (608, 608) to ensure video compatibility with most codecs and players. To prevent resizing, make your input image divisible by the macro_block_size or set the macro_block_size to 1 (risking incompatibility).\n",
      "[swscaler @ 0x7f9ef0a57000] Warning: data is not aligned! This can lead to a speed loss\n"
     ]
    }
   ],
   "source": [
    "'''For full morphometry:\n",
    "1. morphology by image id\n",
    "2. vtk\n",
    "3. to video\n",
    "'''\n",
    "\n",
    "image_src='/Users/jiangshengdian/Desktop/Daily/PhD_project/Platform/webpage/data/full_figs'\n",
    "# 读取所有 PNG 图片\n",
    "color=(255,0,0)\n",
    "images = []\n",
    "for file_name in sorted(os.listdir(image_src)):\n",
    "    if file_name.endswith('.png'):\n",
    "        fpath=os.path.join(image_src,file_name)\n",
    "        fimage=Image.open(fpath).resize([600,600]).rotate(270)\n",
    "        drawimage=ImageDraw.Draw(fimage)\n",
    "        text=\"Brain : \"+file_name.split('.')[0]\n",
    "        font=ImageFont.truetype('Arial Unicode.ttf', size=50)\n",
    "        # text_width, text_height = drawimage.textsize(text, font)\n",
    "        x = 150\n",
    "        y = 30\n",
    "        drawimage.text((x, y), text, font=font, fill=color)\n",
    "        # break\n",
    "        images.append(fimage)\n",
    "images=np.array(images)\n",
    "# fimage\n",
    "# 将图片转换为视频\n",
    "fps = 1  # 每秒钟30帧\n",
    "filepath='/Users/jiangshengdian/Desktop/Daily/PhD_project/Platform/webpage/data/full.mp4'\n",
    "with imageio.get_writer(filepath, fps=fps) as video:\n",
    "    for image in images:\n",
    "        frame = image\n",
    "        video.append_data(frame)"
   ]
  },
  {
   "cell_type": "code",
   "execution_count": 2,
   "id": "0aa955b1",
   "metadata": {},
   "outputs": [
    {
     "name": "stderr",
     "output_type": "stream",
     "text": [
      "IMAGEIO FFMPEG_WRITER WARNING: input image is not divisible by macro_block_size=16, resizing from (600, 600) to (608, 608) to ensure video compatibility with most codecs and players. To prevent resizing, make your input image divisible by the macro_block_size or set the macro_block_size to 1 (risking incompatibility).\n"
     ]
    }
   ],
   "source": [
    "'''For bouton morphometry:\n",
    "'''\n",
    "all1876_feas_file='../../fullmorpho/py/ana_lm_statistics_full.csv'\n",
    "all_1876_feas=pd.read_csv(all1876_feas_file,index_col=['name'])\n",
    "image_src='/Users/jiangshengdian/Desktop/Daily/PhD_project/Platform/webpage/data/bouton_figs'\n",
    "# 读取所有 PNG 图片\n",
    "color=(255,0,0)\n",
    "images = []\n",
    "for region in all_1876_feas['soma_region'].value_counts().keys().tolist():\n",
    "    tregion=all_1876_feas[all_1876_feas['soma_region']==region].copy()\n",
    "    for cell in tregion.index:\n",
    "        file_name=cell+'.png'\n",
    "        fpath=os.path.join(image_src,file_name)\n",
    "        if os.path.exists(fpath):\n",
    "            fimage=Image.open(fpath).resize([600,600])\n",
    "            drawimage=ImageDraw.Draw(fimage)\n",
    "            text=region\n",
    "            font=ImageFont.truetype('Arial Unicode.ttf', size=38)\n",
    "            # text_width, text_height = drawimage.textsize(text, font)\n",
    "            x = 10\n",
    "            y = 50\n",
    "            drawimage.text((x, y), text, font=font, fill=color)\n",
    "            # break\n",
    "            images.append(fimage)\n",
    "\n",
    "images=np.array(images)\n",
    "# fimage\n",
    "# # 将图片转换为视频\n",
    "fps = 3  # 每秒钟30帧\n",
    "filepath='/Users/jiangshengdian/Desktop/Daily/PhD_project/Platform/webpage/data/bouton_mst.mp4'\n",
    "with imageio.get_writer(filepath, fps=fps) as video:\n",
    "    for image in images:\n",
    "        frame = image\n",
    "        video.append_data(frame)"
   ]
  },
  {
   "cell_type": "code",
   "execution_count": 36,
   "id": "71eda477",
   "metadata": {},
   "outputs": [
    {
     "name": "stderr",
     "output_type": "stream",
     "text": [
      "IMAGEIO FFMPEG_WRITER WARNING: input image is not divisible by macro_block_size=16, resizing from (600, 600) to (608, 608) to ensure video compatibility with most codecs and players. To prevent resizing, make your input image divisible by the macro_block_size or set the macro_block_size to 1 (risking incompatibility).\n"
     ]
    }
   ],
   "source": [
    "fps = 2  # 每秒钟30帧\n",
    "filepath='/Users/jiangshengdian/Desktop/Daily/PhD_project/Platform/webpage/data/bouton_mst.mp4'\n",
    "with imageio.get_writer(filepath, fps=fps) as video:\n",
    "    for image in images:\n",
    "        frame = image\n",
    "        video.append_data(frame)"
   ]
  },
  {
   "cell_type": "code",
   "execution_count": 147,
   "id": "ea8128f6",
   "metadata": {},
   "outputs": [],
   "source": [
    "'''Resize Fig data'''\n",
    "main_figs='/Users/jiangshengdian/Desktop/Daily/PhD_project/Platform/webpage/data/main_figs'\n",
    "for i in np.arange(1,9):\n",
    "    figpath=os.path.join(main_figs,'Fig'+str(i)+'.png')\n",
    "    fimage=Image.open(figpath).resize([1200,1000])\n",
    "    tofigpath=os.path.join(main_figs,'Fig'+str(i)+'_resized.png')\n",
    "    fimage.save(tofigpath)\n",
    "    # break"
   ]
  }
 ],
 "metadata": {
  "kernelspec": {
   "display_name": "py37",
   "language": "python",
   "name": "python3"
  },
  "language_info": {
   "codemirror_mode": {
    "name": "ipython",
    "version": 3
   },
   "file_extension": ".py",
   "mimetype": "text/x-python",
   "name": "python",
   "nbconvert_exporter": "python",
   "pygments_lexer": "ipython3",
   "version": "3.9.18"
  },
  "vscode": {
   "interpreter": {
    "hash": "8a5edab282632443219e051e4ade2d1d5bbc671c781051bf1437897cbdfea0f1"
   }
  }
 },
 "nbformat": 4,
 "nbformat_minor": 5
}
