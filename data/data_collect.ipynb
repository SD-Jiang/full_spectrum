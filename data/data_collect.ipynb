{
 "cells": [
  {
   "cell_type": "code",
   "execution_count": 1,
   "id": "96481c4c",
   "metadata": {},
   "outputs": [],
   "source": [
    "import pandas as pd\n",
    "import numpy as np\n",
    "import shutil\n",
    "import os\n",
    "import imageio\n",
    "from PIL import Image,ImageDraw,ImageFont"
   ]
  },
  {
   "cell_type": "markdown",
   "id": "3cadaeb6",
   "metadata": {},
   "source": [
    "## For Web data"
   ]
  },
  {
   "cell_type": "code",
   "execution_count": 148,
   "id": "254e3a68",
   "metadata": {},
   "outputs": [],
   "source": [
    "'''For soma morphometry\n",
    "1. read soma morphometry\n",
    "2. convert to marker\n",
    "3. render in vtk and generate image\n",
    "4. image seq to video\n",
    "'''\n",
    "import random\n",
    "somaf='TableS3_Soma_morphometry_1222.csv'\n",
    "somadf=pd.read_csv(somaf)\n",
    "soma_in_brain=somadf[['Soma ID', 'fMOST BrainID', 'Soma_X(CCFv3_1𝜇𝑚)', 'Soma_Y(CCFv3_1𝜇𝑚)', 'Soma_Z(CCFv3_1𝜇𝑚)','Registered  CCF Region']].copy()\n",
    "head='##n,orderinfo,name,comment,z,x,y,pixmax,intensity,sdev,volsize,mass,f1,f2,f3,color_r,color_g,color_b'\n",
    "#0,,18454,,3964.11,8454.241,4969.068,0,0,0,100,0,,,,125.0,250.0,196.0\n",
    "for bid in somadf['fMOST BrainID'].value_counts().index.to_list():\n",
    "    somas=soma_in_brain[soma_in_brain['fMOST BrainID']==bid].copy()\n",
    "    region_sorted=somas['Registered  CCF Region'].value_counts().index.to_list()\n",
    "    somas['r']=0\n",
    "    somas['g']=0\n",
    "    somas['b']=0\n",
    "    somas['c']=-1\n",
    "    for i,region in enumerate(region_sorted):\n",
    "       somas.loc[somas['Registered  CCF Region']==region,'c']=i\n",
    "       clist=random.choices(np.arange(255),k=3)\n",
    "       somas.loc[somas['Registered  CCF Region']==region,'r']=clist[0]\n",
    "       somas.loc[somas['Registered  CCF Region']==region,'g']=clist[1]\n",
    "       somas.loc[somas['Registered  CCF Region']==region,'b']=clist[2]\n",
    "    soma_markers=pd.DataFrame()\n",
    "    for cell in somas.index:\n",
    "       if somas.loc[cell,'c'] < 0:\n",
    "          continue\n",
    "       soma_markers.loc[cell,'##x']=int(somas.loc[cell,'Soma_X(CCFv3_1𝜇𝑚)']/25+20)\n",
    "       soma_markers.loc[cell,'y']=int(somas.loc[cell,'Soma_Y(CCFv3_1𝜇𝑚)']/25)\n",
    "       soma_markers.loc[cell,'z']=int(somas.loc[cell,'Soma_Z(CCFv3_1𝜇𝑚)']/25)\n",
    "       soma_markers.loc[cell,'radius']=0\n",
    "       soma_markers.loc[cell,'shape']=1\n",
    "       soma_markers.loc[cell,'name']=somas.loc[cell,'Registered  CCF Region']\n",
    "       soma_markers.loc[cell,'comment']=somas.loc[cell,'c']\n",
    "       soma_markers.loc[cell,'color_r']=somas.loc[cell,'r']\n",
    "       soma_markers.loc[cell,'color_g']=somas.loc[cell,'g']\n",
    "       soma_markers.loc[cell,'color_b']=somas.loc[cell,'b']\n",
    "    soma_markers.to_csv('.soma_markers/'+str(bid)+'.marker',index=False,float_format='%.0f')"
   ]
  },
  {
   "cell_type": "code",
   "execution_count": 5,
   "id": "6f644302",
   "metadata": {},
   "outputs": [
    {
     "name": "stderr",
     "output_type": "stream",
     "text": [
      "IMAGEIO FFMPEG_WRITER WARNING: input image is not divisible by macro_block_size=16, resizing from (600, 600) to (608, 608) to ensure video compatibility with most codecs and players. To prevent resizing, make your input image divisible by the macro_block_size or set the macro_block_size to 1 (risking incompatibility).\n",
      "[swscaler @ 0x7f8f3f557000] Warning: data is not aligned! This can lead to a speed loss\n"
     ]
    }
   ],
   "source": [
    "# image sequence to video\n",
    "image_src='soma_figs'\n",
    "# 读取所有 PNG 图片\n",
    "color=(255,0,0)\n",
    "images = []\n",
    "for file_name in sorted(os.listdir(image_src)):\n",
    "    if file_name.endswith('.png'):\n",
    "        fpath=os.path.join(image_src,file_name)\n",
    "        fimage=Image.open(fpath).resize([600,600]).rotate(270)\n",
    "        drawimage=ImageDraw.Draw(fimage)\n",
    "        text=\"Brain : \"+file_name.split('.')[0]\n",
    "        font=ImageFont.truetype('Arial Unicode.ttf', size=50)\n",
    "        # text_width, text_height = drawimage.textsize(text, font)\n",
    "        x = 150\n",
    "        y = 30\n",
    "        drawimage.text((x, y), text, font=font, fill=color)\n",
    "        # break\n",
    "        images.append(fimage)\n",
    "images=np.array(images)\n",
    "# fimage\n",
    "# 将图片转换为视频\n",
    "fps = 1  # 每秒钟30帧\n",
    "filepath='./soma.mp4'\n",
    "with imageio.get_writer(filepath, fps=fps) as video:\n",
    "    for image in images:\n",
    "        frame = image\n",
    "        video.append_data(frame)"
   ]
  },
  {
   "cell_type": "code",
   "execution_count": 6,
   "id": "55d14c3b",
   "metadata": {},
   "outputs": [
    {
     "name": "stderr",
     "output_type": "stream",
     "text": [
      "IMAGEIO FFMPEG_WRITER WARNING: input image is not divisible by macro_block_size=16, resizing from (600, 600) to (608, 608) to ensure video compatibility with most codecs and players. To prevent resizing, make your input image divisible by the macro_block_size or set the macro_block_size to 1 (risking incompatibility).\n",
      "[swscaler @ 0x7fc9f5257000] Warning: data is not aligned! This can lead to a speed loss\n"
     ]
    }
   ],
   "source": [
    "'''For local morphometry:\n",
    "1. morphology by image id\n",
    "2. vtk\n",
    "3. to video\n",
    "'''\n",
    "\n",
    "image_src='local_figs'\n",
    "# 读取所有 PNG 图片\n",
    "color=(255,0,0)\n",
    "images = []\n",
    "for file_name in sorted(os.listdir(image_src)):\n",
    "    if file_name.endswith('.png'):\n",
    "        fpath=os.path.join(image_src,file_name)\n",
    "        fimage=Image.open(fpath).resize([600,600]).rotate(270)\n",
    "        drawimage=ImageDraw.Draw(fimage)\n",
    "        text=\"Brain : \"+file_name.split('.')[0]\n",
    "        font=ImageFont.truetype('Arial Unicode.ttf', size=50)\n",
    "        # text_width, text_height = drawimage.textsize(text, font)\n",
    "        x = 150\n",
    "        y = 30\n",
    "        drawimage.text((x, y), text, font=font, fill=color)\n",
    "        # break\n",
    "        images.append(fimage)\n",
    "images=np.array(images)\n",
    "# fimage\n",
    "# 将图片转换为视频\n",
    "fps = 1  # 每秒钟30帧\n",
    "filepath='./local.mp4'\n",
    "with imageio.get_writer(filepath, fps=fps) as video:\n",
    "    for image in images:\n",
    "        frame = image\n",
    "        video.append_data(frame)"
   ]
  },
  {
   "cell_type": "code",
   "execution_count": 7,
   "id": "83207341",
   "metadata": {},
   "outputs": [
    {
     "name": "stderr",
     "output_type": "stream",
     "text": [
      "IMAGEIO FFMPEG_WRITER WARNING: input image is not divisible by macro_block_size=16, resizing from (600, 600) to (608, 608) to ensure video compatibility with most codecs and players. To prevent resizing, make your input image divisible by the macro_block_size or set the macro_block_size to 1 (risking incompatibility).\n",
      "[swscaler @ 0x7f9ef0a57000] Warning: data is not aligned! This can lead to a speed loss\n"
     ]
    }
   ],
   "source": [
    "'''For full morphometry:\n",
    "1. morphology by image id\n",
    "2. vtk\n",
    "3. to video\n",
    "'''\n",
    "\n",
    "image_src='full_figs'\n",
    "# 读取所有 PNG 图片\n",
    "color=(255,0,0)\n",
    "images = []\n",
    "for file_name in sorted(os.listdir(image_src)):\n",
    "    if file_name.endswith('.png'):\n",
    "        fpath=os.path.join(image_src,file_name)\n",
    "        fimage=Image.open(fpath).resize([600,600]).rotate(270)\n",
    "        drawimage=ImageDraw.Draw(fimage)\n",
    "        text=\"Brain : \"+file_name.split('.')[0]\n",
    "        font=ImageFont.truetype('Arial Unicode.ttf', size=50)\n",
    "        # text_width, text_height = drawimage.textsize(text, font)\n",
    "        x = 150\n",
    "        y = 30\n",
    "        drawimage.text((x, y), text, font=font, fill=color)\n",
    "        # break\n",
    "        images.append(fimage)\n",
    "images=np.array(images)\n",
    "# fimage\n",
    "# 将图片转换为视频\n",
    "fps = 1  # 每秒钟30帧\n",
    "filepath='./full.mp4'\n",
    "with imageio.get_writer(filepath, fps=fps) as video:\n",
    "    for image in images:\n",
    "        frame = image\n",
    "        video.append_data(frame)"
   ]
  },
  {
   "cell_type": "code",
   "execution_count": 2,
   "id": "0aa955b1",
   "metadata": {},
   "outputs": [
    {
     "name": "stderr",
     "output_type": "stream",
     "text": [
      "IMAGEIO FFMPEG_WRITER WARNING: input image is not divisible by macro_block_size=16, resizing from (600, 600) to (608, 608) to ensure video compatibility with most codecs and players. To prevent resizing, make your input image divisible by the macro_block_size or set the macro_block_size to 1 (risking incompatibility).\n"
     ]
    }
   ],
   "source": [
    "'''For bouton morphometry:\n",
    "'''\n",
    "all1876_feas_file='R1876_feas.csv'\n",
    "all_1876_feas=pd.read_csv(all1876_feas_file,index_col=['name'])\n",
    "image_src='bouton_figs'\n",
    "# 读取所有 PNG 图片\n",
    "color=(255,0,0)\n",
    "images = []\n",
    "for region in all_1876_feas['soma_region'].value_counts().keys().tolist():\n",
    "    tregion=all_1876_feas[all_1876_feas['soma_region']==region].copy()\n",
    "    for cell in tregion.index:\n",
    "        file_name=cell+'.png'\n",
    "        fpath=os.path.join(image_src,file_name)\n",
    "        if os.path.exists(fpath):\n",
    "            fimage=Image.open(fpath).resize([600,600])\n",
    "            drawimage=ImageDraw.Draw(fimage)\n",
    "            text=region\n",
    "            font=ImageFont.truetype('Arial Unicode.ttf', size=38)\n",
    "            # text_width, text_height = drawimage.textsize(text, font)\n",
    "            x = 10\n",
    "            y = 50\n",
    "            drawimage.text((x, y), text, font=font, fill=color)\n",
    "            # break\n",
    "            images.append(fimage)\n",
    "\n",
    "images=np.array(images)\n",
    "# fimage\n",
    "fps = 5\n",
    "filepath='./bouton_mst.mp4'\n",
    "with imageio.get_writer(filepath, fps=fps) as video:\n",
    "    for image in images:\n",
    "        frame = image\n",
    "        video.append_data(frame)"
   ]
  },
  {
   "cell_type": "code",
   "execution_count": 147,
   "id": "ea8128f6",
   "metadata": {},
   "outputs": [],
   "source": [
    "'''Resize Fig data'''\n",
    "main_figs='main_figs'\n",
    "for i in np.arange(1,9):\n",
    "    figpath=os.path.join(main_figs,'Fig'+str(i)+'.png')\n",
    "    fimage=Image.open(figpath).resize([1200,1000])\n",
    "    tofigpath=os.path.join(main_figs,'Fig'+str(i)+'_resized.png')\n",
    "    fimage.save(tofigpath)\n",
    "    # break"
   ]
  }
 ],
 "metadata": {
  "kernelspec": {
   "display_name": "py37",
   "language": "python",
   "name": "python3"
  },
  "language_info": {
   "codemirror_mode": {
    "name": "ipython",
    "version": 3
   },
   "file_extension": ".py",
   "mimetype": "text/x-python",
   "name": "python",
   "nbconvert_exporter": "python",
   "pygments_lexer": "ipython3",
   "version": "3.9.18"
  },
  "vscode": {
   "interpreter": {
    "hash": "8a5edab282632443219e051e4ade2d1d5bbc671c781051bf1437897cbdfea0f1"
   }
  }
 },
 "nbformat": 4,
 "nbformat_minor": 5
}
